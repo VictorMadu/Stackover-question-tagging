{
  "nbformat": 4,
  "nbformat_minor": 0,
  "metadata": {
    "colab": {
      "name": "Untitled",
      "provenance": [],
      "collapsed_sections": [],
      "toc_visible": true,
      "mount_file_id": "1za8BN84ZcljiqZAO_MMR5zPuGmD7ZvGm",
      "authorship_tag": "ABX9TyM/AYoTACjlDHXi2m50fGRh",
      "include_colab_link": true
    },
    "kernelspec": {
      "name": "python3",
      "display_name": "Python 3"
    }
  },
  "cells": [
    {
      "cell_type": "markdown",
      "metadata": {
        "id": "view-in-github",
        "colab_type": "text"
      },
      "source": [
        "<a href=\"https://colab.research.google.com/github/VictorMadu/Stackover-question-tagging/blob/master/Data%20Processing%20and%20Feature%20Engineering.ipynb\" target=\"_parent\"><img src=\"https://colab.research.google.com/assets/colab-badge.svg\" alt=\"Open In Colab\"/></a>"
      ]
    },
    {
      "cell_type": "code",
      "metadata": {
        "id": "5J87d5XdJ2ao",
        "colab_type": "code",
        "outputId": "dbf03915-c94f-424c-dc42-8f4785373e6f",
        "colab": {
          "base_uri": "https://localhost:8080/",
          "height": 1000
        }
      },
      "source": [
        " import nltk\n",
        "nltk.download('punkt')\n",
        "nltk.download('stopwords')\n",
        "! pip install scikit-multilearn \n",
        "!pip install \"tensorflow_hub>=0.6.0\"\n",
        "!pip install \"tensorflow>=2.0.0\"\n",
        "\n",
        "import tensorflow as tf\n",
        "import tensorflow_hub as hub"
      ],
      "execution_count": 0,
      "outputs": [
        {
          "output_type": "stream",
          "text": [
            "[nltk_data] Downloading package punkt to /root/nltk_data...\n",
            "[nltk_data]   Unzipping tokenizers/punkt.zip.\n",
            "[nltk_data] Downloading package stopwords to /root/nltk_data...\n",
            "[nltk_data]   Unzipping corpora/stopwords.zip.\n",
            "Collecting scikit-multilearn\n",
            "\u001b[?25l  Downloading https://files.pythonhosted.org/packages/bb/1f/e6ff649c72a1cdf2c7a1d31eb21705110ce1c5d3e7e26b2cc300e1637272/scikit_multilearn-0.2.0-py3-none-any.whl (89kB)\n",
            "\u001b[K     |████████████████████████████████| 92kB 4.4MB/s \n",
            "\u001b[?25hInstalling collected packages: scikit-multilearn\n",
            "Successfully installed scikit-multilearn-0.2.0\n",
            "Requirement already satisfied: tensorflow_hub>=0.6.0 in /usr/local/lib/python3.6/dist-packages (0.7.0)\n",
            "Requirement already satisfied: six>=1.10.0 in /usr/local/lib/python3.6/dist-packages (from tensorflow_hub>=0.6.0) (1.12.0)\n",
            "Requirement already satisfied: protobuf>=3.4.0 in /usr/local/lib/python3.6/dist-packages (from tensorflow_hub>=0.6.0) (3.10.0)\n",
            "Requirement already satisfied: numpy>=1.12.0 in /usr/local/lib/python3.6/dist-packages (from tensorflow_hub>=0.6.0) (1.18.2)\n",
            "Requirement already satisfied: setuptools in /usr/local/lib/python3.6/dist-packages (from protobuf>=3.4.0->tensorflow_hub>=0.6.0) (46.0.0)\n",
            "Collecting tensorflow>=2.0.0\n",
            "\u001b[?25l  Downloading https://files.pythonhosted.org/packages/85/d4/c0cd1057b331bc38b65478302114194bd8e1b9c2bbc06e300935c0e93d90/tensorflow-2.1.0-cp36-cp36m-manylinux2010_x86_64.whl (421.8MB)\n",
            "\u001b[K     |████████████████████████████████| 421.8MB 38kB/s \n",
            "\u001b[?25hRequirement already satisfied: grpcio>=1.8.6 in /usr/local/lib/python3.6/dist-packages (from tensorflow>=2.0.0) (1.24.3)\n",
            "Requirement already satisfied: wheel>=0.26; python_version >= \"3\" in /usr/local/lib/python3.6/dist-packages (from tensorflow>=2.0.0) (0.34.2)\n",
            "Requirement already satisfied: keras-preprocessing>=1.1.0 in /usr/local/lib/python3.6/dist-packages (from tensorflow>=2.0.0) (1.1.0)\n",
            "Requirement already satisfied: termcolor>=1.1.0 in /usr/local/lib/python3.6/dist-packages (from tensorflow>=2.0.0) (1.1.0)\n",
            "Requirement already satisfied: gast==0.2.2 in /usr/local/lib/python3.6/dist-packages (from tensorflow>=2.0.0) (0.2.2)\n",
            "Requirement already satisfied: protobuf>=3.8.0 in /usr/local/lib/python3.6/dist-packages (from tensorflow>=2.0.0) (3.10.0)\n",
            "Collecting tensorboard<2.2.0,>=2.1.0\n",
            "\u001b[?25l  Downloading https://files.pythonhosted.org/packages/d9/41/bbf49b61370e4f4d245d4c6051dfb6db80cec672605c91b1652ac8cc3d38/tensorboard-2.1.1-py3-none-any.whl (3.8MB)\n",
            "\u001b[K     |████████████████████████████████| 3.9MB 45.7MB/s \n",
            "\u001b[?25hRequirement already satisfied: numpy<2.0,>=1.16.0 in /usr/local/lib/python3.6/dist-packages (from tensorflow>=2.0.0) (1.18.2)\n",
            "Requirement already satisfied: google-pasta>=0.1.6 in /usr/local/lib/python3.6/dist-packages (from tensorflow>=2.0.0) (0.2.0)\n",
            "Collecting tensorflow-estimator<2.2.0,>=2.1.0rc0\n",
            "\u001b[?25l  Downloading https://files.pythonhosted.org/packages/18/90/b77c328a1304437ab1310b463e533fa7689f4bfc41549593056d812fab8e/tensorflow_estimator-2.1.0-py2.py3-none-any.whl (448kB)\n",
            "\u001b[K     |████████████████████████████████| 450kB 50.2MB/s \n",
            "\u001b[?25hRequirement already satisfied: wrapt>=1.11.1 in /usr/local/lib/python3.6/dist-packages (from tensorflow>=2.0.0) (1.12.1)\n",
            "Requirement already satisfied: six>=1.12.0 in /usr/local/lib/python3.6/dist-packages (from tensorflow>=2.0.0) (1.12.0)\n",
            "Requirement already satisfied: keras-applications>=1.0.8 in /usr/local/lib/python3.6/dist-packages (from tensorflow>=2.0.0) (1.0.8)\n",
            "Requirement already satisfied: scipy==1.4.1; python_version >= \"3\" in /usr/local/lib/python3.6/dist-packages (from tensorflow>=2.0.0) (1.4.1)\n",
            "Requirement already satisfied: absl-py>=0.7.0 in /usr/local/lib/python3.6/dist-packages (from tensorflow>=2.0.0) (0.9.0)\n",
            "Requirement already satisfied: astor>=0.6.0 in /usr/local/lib/python3.6/dist-packages (from tensorflow>=2.0.0) (0.8.1)\n",
            "Requirement already satisfied: opt-einsum>=2.3.2 in /usr/local/lib/python3.6/dist-packages (from tensorflow>=2.0.0) (3.2.0)\n",
            "Requirement already satisfied: setuptools in /usr/local/lib/python3.6/dist-packages (from protobuf>=3.8.0->tensorflow>=2.0.0) (46.0.0)\n",
            "Requirement already satisfied: werkzeug>=0.11.15 in /usr/local/lib/python3.6/dist-packages (from tensorboard<2.2.0,>=2.1.0->tensorflow>=2.0.0) (1.0.0)\n",
            "Requirement already satisfied: google-auth-oauthlib<0.5,>=0.4.1 in /usr/local/lib/python3.6/dist-packages (from tensorboard<2.2.0,>=2.1.0->tensorflow>=2.0.0) (0.4.1)\n",
            "Requirement already satisfied: markdown>=2.6.8 in /usr/local/lib/python3.6/dist-packages (from tensorboard<2.2.0,>=2.1.0->tensorflow>=2.0.0) (3.2.1)\n",
            "Requirement already satisfied: google-auth<2,>=1.6.3 in /usr/local/lib/python3.6/dist-packages (from tensorboard<2.2.0,>=2.1.0->tensorflow>=2.0.0) (1.7.2)\n",
            "Requirement already satisfied: requests<3,>=2.21.0 in /usr/local/lib/python3.6/dist-packages (from tensorboard<2.2.0,>=2.1.0->tensorflow>=2.0.0) (2.21.0)\n",
            "Requirement already satisfied: h5py in /usr/local/lib/python3.6/dist-packages (from keras-applications>=1.0.8->tensorflow>=2.0.0) (2.8.0)\n",
            "Requirement already satisfied: requests-oauthlib>=0.7.0 in /usr/local/lib/python3.6/dist-packages (from google-auth-oauthlib<0.5,>=0.4.1->tensorboard<2.2.0,>=2.1.0->tensorflow>=2.0.0) (1.3.0)\n",
            "Requirement already satisfied: pyasn1-modules>=0.2.1 in /usr/local/lib/python3.6/dist-packages (from google-auth<2,>=1.6.3->tensorboard<2.2.0,>=2.1.0->tensorflow>=2.0.0) (0.2.8)\n",
            "Requirement already satisfied: cachetools<3.2,>=2.0.0 in /usr/local/lib/python3.6/dist-packages (from google-auth<2,>=1.6.3->tensorboard<2.2.0,>=2.1.0->tensorflow>=2.0.0) (3.1.1)\n",
            "Requirement already satisfied: rsa<4.1,>=3.1.4 in /usr/local/lib/python3.6/dist-packages (from google-auth<2,>=1.6.3->tensorboard<2.2.0,>=2.1.0->tensorflow>=2.0.0) (4.0)\n",
            "Requirement already satisfied: chardet<3.1.0,>=3.0.2 in /usr/local/lib/python3.6/dist-packages (from requests<3,>=2.21.0->tensorboard<2.2.0,>=2.1.0->tensorflow>=2.0.0) (3.0.4)\n",
            "Requirement already satisfied: idna<2.9,>=2.5 in /usr/local/lib/python3.6/dist-packages (from requests<3,>=2.21.0->tensorboard<2.2.0,>=2.1.0->tensorflow>=2.0.0) (2.8)\n",
            "Requirement already satisfied: urllib3<1.25,>=1.21.1 in /usr/local/lib/python3.6/dist-packages (from requests<3,>=2.21.0->tensorboard<2.2.0,>=2.1.0->tensorflow>=2.0.0) (1.24.3)\n",
            "Requirement already satisfied: certifi>=2017.4.17 in /usr/local/lib/python3.6/dist-packages (from requests<3,>=2.21.0->tensorboard<2.2.0,>=2.1.0->tensorflow>=2.0.0) (2019.11.28)\n",
            "Requirement already satisfied: oauthlib>=3.0.0 in /usr/local/lib/python3.6/dist-packages (from requests-oauthlib>=0.7.0->google-auth-oauthlib<0.5,>=0.4.1->tensorboard<2.2.0,>=2.1.0->tensorflow>=2.0.0) (3.1.0)\n",
            "Requirement already satisfied: pyasn1<0.5.0,>=0.4.6 in /usr/local/lib/python3.6/dist-packages (from pyasn1-modules>=0.2.1->google-auth<2,>=1.6.3->tensorboard<2.2.0,>=2.1.0->tensorflow>=2.0.0) (0.4.8)\n",
            "\u001b[31mERROR: tensorflow-federated 0.12.0 has requirement tensorflow-addons~=0.7.0, but you'll have tensorflow-addons 0.8.3 which is incompatible.\u001b[0m\n",
            "Installing collected packages: tensorboard, tensorflow-estimator, tensorflow\n",
            "  Found existing installation: tensorboard 1.15.0\n",
            "    Uninstalling tensorboard-1.15.0:\n",
            "      Successfully uninstalled tensorboard-1.15.0\n",
            "  Found existing installation: tensorflow-estimator 1.15.1\n",
            "    Uninstalling tensorflow-estimator-1.15.1:\n",
            "      Successfully uninstalled tensorflow-estimator-1.15.1\n",
            "  Found existing installation: tensorflow 1.15.0\n",
            "    Uninstalling tensorflow-1.15.0:\n",
            "      Successfully uninstalled tensorflow-1.15.0\n",
            "Successfully installed tensorboard-2.1.1 tensorflow-2.1.0 tensorflow-estimator-2.1.0\n"
          ],
          "name": "stdout"
        }
      ]
    },
    {
      "cell_type": "code",
      "metadata": {
        "id": "IOxJQQ_AJ2VX",
        "colab_type": "code",
        "colab": {}
      },
      "source": [
        "import warnings\n",
        "warnings.filterwarnings(\"ignore\")\n",
        "import pandas as pd\n",
        "import sqlite3\n",
        "import csv\n",
        "import matplotlib.pyplot as plt\n",
        "import seaborn as sns\n",
        "import numpy as np\n",
        "from wordcloud import WordCloud\n",
        "import re\n",
        "import os\n",
        "import io\n",
        "import shutil\n",
        "from zipfile import ZipFile\n",
        "from sqlalchemy import create_engine\n",
        "import datetime\n",
        "from nltk.corpus import stopwords\n",
        "from nltk.tokenize import word_tokenize\n",
        "from nltk.stem.snowball import SnowballStemmer\n",
        "from sklearn.feature_extraction.text import CountVectorizer\n",
        "from sklearn.feature_extraction.text import TfidfVectorizer\n",
        "from sklearn.multiclass import OneVsRestClassifier\n",
        "from sklearn.linear_model import SGDClassifier\n",
        "from sklearn.metrics import f1_score, precision_score, recall_score\n",
        "from sklearn import svm\n",
        "from skmultilearn.problem_transform import ClassifierChain\n",
        "from skmultilearn.problem_transform import BinaryRelevance\n",
        "from skmultilearn.problem_transform import LabelPowerset\n",
        "from sklearn.naive_bayes import GaussianNB\n",
        "from datetime import datetime"
      ],
      "execution_count": 0,
      "outputs": []
    },
    {
      "cell_type": "markdown",
      "metadata": {
        "id": "wTE9A5YFkQAp",
        "colab_type": "text"
      },
      "source": [
        "Due to limited computation power, storage and time taken to run code, i will use 1000000 samples of data to train my model\n"
      ]
    },
    {
      "cell_type": "code",
      "metadata": {
        "id": "ry0nKWmJ72aJ",
        "colab_type": "code",
        "outputId": "e3bbe508-4f85-4b52-fa75-d1c5e049686f",
        "colab": {
          "base_uri": "https://localhost:8080/",
          "height": 180
        }
      },
      "source": [
        "with ZipFile('/content/drive/My Drive/facebook-recruiting-iii-keyword-extraction.zip', 'r') as zf: \n",
        "  zf.printdir() \n",
        "\n",
        "  # extracting all the files \n",
        "  print('Extracting all the files now...') \n",
        "  zf.extractall() \n",
        "  print('Done!') \n",
        "\n",
        "\n",
        "with ZipFile('/content/Train.zip') as zf:\n",
        "  zf.printdir()\n",
        "\n",
        "  # extracting .csv file from Train.zip\n",
        "  print('Extracting the .csv file now...')\n",
        "  zf.extractall()\n",
        "  print('Done!')"
      ],
      "execution_count": 0,
      "outputs": [
        {
          "output_type": "stream",
          "text": [
            "File Name                                             Modified             Size\n",
            "SampleSubmission.csv                           2019-12-11 23:27:44     82546830\n",
            "Test.zip                                       2019-12-11 23:27:54    760327055\n",
            "Train.zip                                      2019-12-11 23:29:10   2347110159\n",
            "Extracting all the files now...\n",
            "Done!\n",
            "File Name                                             Modified             Size\n",
            "Train.csv                                      2013-07-22 14:50:22   7253917400\n",
            "Extracting the .csv file now...\n",
            "Done!\n"
          ],
          "name": "stdout"
        }
      ]
    },
    {
      "cell_type": "code",
      "metadata": {
        "id": "BpGNrf_q72FB",
        "colab_type": "code",
        "colab": {}
      },
      "source": [
        ""
      ],
      "execution_count": 0,
      "outputs": []
    },
    {
      "cell_type": "code",
      "metadata": {
        "id": "an96Ft-zw-6p",
        "colab_type": "code",
        "colab": {}
      },
      "source": [
        "df = pd.read_csv('Train.csv')"
      ],
      "execution_count": 0,
      "outputs": []
    },
    {
      "cell_type": "code",
      "metadata": {
        "id": "AomfGqJV5EjA",
        "colab_type": "code",
        "colab": {}
      },
      "source": [
        "df = df.sample(1200000)\n",
        "df.iloc[1000000:].to_csv('test.csv')"
      ],
      "execution_count": 0,
      "outputs": []
    },
    {
      "cell_type": "code",
      "metadata": {
        "id": "xCcs5OXhL_8L",
        "colab_type": "code",
        "colab": {}
      },
      "source": [
        "df = df[:1000000]\n",
        "df.Id = np.arange(len(df))"
      ],
      "execution_count": 0,
      "outputs": []
    },
    {
      "cell_type": "markdown",
      "metadata": {
        "id": "_pjh5XPCz81u",
        "colab_type": "text"
      },
      "source": [
        ""
      ]
    },
    {
      "cell_type": "code",
      "metadata": {
        "id": "oc-yyyTLBnO-",
        "colab_type": "code",
        "outputId": "cae90f9f-00e6-4117-8755-919b343fa113",
        "colab": {
          "base_uri": "https://localhost:8080/",
          "height": 191
        }
      },
      "source": [
        "df.head()"
      ],
      "execution_count": 0,
      "outputs": [
        {
          "output_type": "execute_result",
          "data": {
            "text/html": [
              "<div>\n",
              "<style scoped>\n",
              "    .dataframe tbody tr th:only-of-type {\n",
              "        vertical-align: middle;\n",
              "    }\n",
              "\n",
              "    .dataframe tbody tr th {\n",
              "        vertical-align: top;\n",
              "    }\n",
              "\n",
              "    .dataframe thead th {\n",
              "        text-align: right;\n",
              "    }\n",
              "</style>\n",
              "<table border=\"1\" class=\"dataframe\">\n",
              "  <thead>\n",
              "    <tr style=\"text-align: right;\">\n",
              "      <th></th>\n",
              "      <th>Id</th>\n",
              "      <th>Title</th>\n",
              "      <th>Body</th>\n",
              "      <th>Tags</th>\n",
              "    </tr>\n",
              "  </thead>\n",
              "  <tbody>\n",
              "    <tr>\n",
              "      <th>529147</th>\n",
              "      <td>0</td>\n",
              "      <td>Gratuitous ARP request using C#</td>\n",
              "      <td>&lt;p&gt;Working on a Windows 2008 server and assign...</td>\n",
              "      <td>c# .net windows network-programming arp</td>\n",
              "    </tr>\n",
              "    <tr>\n",
              "      <th>264565</th>\n",
              "      <td>1</td>\n",
              "      <td>How to correctly wrap richfaces panel inside a...</td>\n",
              "      <td>&lt;p&gt;I tried to write in resources/ui/div.xhtml:...</td>\n",
              "      <td>jsf-2 composite-component</td>\n",
              "    </tr>\n",
              "    <tr>\n",
              "      <th>884650</th>\n",
              "      <td>2</td>\n",
              "      <td>Can I have form tag inside View in MVC?</td>\n",
              "      <td>&lt;p&gt;Can we put form tag inside view in MVC. I n...</td>\n",
              "      <td>asp.net-mvc</td>\n",
              "    </tr>\n",
              "    <tr>\n",
              "      <th>4896727</th>\n",
              "      <td>3</td>\n",
              "      <td>LyX : Inline completion in math mode</td>\n",
              "      <td>&lt;p&gt;I was wondering if the following feature ex...</td>\n",
              "      <td>math-mode lyx auto-completion</td>\n",
              "    </tr>\n",
              "    <tr>\n",
              "      <th>2567932</th>\n",
              "      <td>4</td>\n",
              "      <td>when download an image, does urllib have a ret...</td>\n",
              "      <td>&lt;p&gt;I want to download an image file from poten...</td>\n",
              "      <td>python</td>\n",
              "    </tr>\n",
              "  </tbody>\n",
              "</table>\n",
              "</div>"
            ],
            "text/plain": [
              "         Id  ...                                     Tags\n",
              "529147    0  ...  c# .net windows network-programming arp\n",
              "264565    1  ...                jsf-2 composite-component\n",
              "884650    2  ...                              asp.net-mvc\n",
              "4896727   3  ...            math-mode lyx auto-completion\n",
              "2567932   4  ...                                   python\n",
              "\n",
              "[5 rows x 4 columns]"
            ]
          },
          "metadata": {
            "tags": []
          },
          "execution_count": 7
        }
      ]
    },
    {
      "cell_type": "code",
      "metadata": {
        "colab_type": "code",
        "id": "DQhetrMHF4LT",
        "colab": {}
      },
      "source": [
        "tags = df['Tags']"
      ],
      "execution_count": 0,
      "outputs": []
    },
    {
      "cell_type": "code",
      "metadata": {
        "id": "pM6tRVYfahhq",
        "colab_type": "code",
        "colab": {}
      },
      "source": [
        "vectorizer = CountVectorizer(tokenizer=lambda x: x.split(), binary='true')\n",
        "multilabel_y = vectorizer.fit_transform(tags.apply(lambda x: np.str_(x)))"
      ],
      "execution_count": 0,
      "outputs": []
    },
    {
      "cell_type": "code",
      "metadata": {
        "id": "JQkJiiYoeTcQ",
        "colab_type": "code",
        "outputId": "234b0200-8e2e-4f30-945d-818d0d9f9778",
        "colab": {
          "base_uri": "https://localhost:8080/",
          "height": 50
        }
      },
      "source": [
        "print('The number of data points is:', multilabel_y.shape[0])\n",
        "print('The number of unique tags is:', multilabel_y.shape[1])"
      ],
      "execution_count": 0,
      "outputs": [
        {
          "output_type": "stream",
          "text": [
            "The number of data points is: 1000000\n",
            "The number of unique tags is: 34950\n"
          ],
          "name": "stdout"
        }
      ]
    },
    {
      "cell_type": "code",
      "metadata": {
        "id": "XaVAdmFbORdA",
        "colab_type": "code",
        "colab": {}
      },
      "source": [
        "def tags_to_choose(n):\n",
        "  t = multilabel_y.sum(axis=0).tolist()[0]\n",
        "  sorted_tags_i = sorted(range(len(t)), key=lambda i: t[i], reverse=True)\n",
        "  multilabel_yn = multilabel_y[:,sorted_tags_i[:n]]\n",
        "  return multilabel_yn\n",
        "\n",
        "def questions_explained_fn(n):\n",
        "  multilabel_yn = tags_to_choose(n)\n",
        "  x = multilabel_yn.sum(axis=1)\n",
        "  return (np.count_nonzero(x==0))\n"
      ],
      "execution_count": 0,
      "outputs": []
    },
    {
      "cell_type": "code",
      "metadata": {
        "id": "mfmzxvGhVJW8",
        "colab_type": "code",
        "colab": {}
      },
      "source": [
        "questions_explained = []\n",
        "total_tags = multilabel_y.shape[1]\n",
        "total_qs = df.shape[0]\n",
        "for i in range(500, total_tags, 100):\n",
        "  questions_explained.append(np.round((total_qs-questions_explained_fn(i))))"
      ],
      "execution_count": 0,
      "outputs": []
    },
    {
      "cell_type": "code",
      "metadata": {
        "id": "t_Rn3nI9W7vc",
        "colab_type": "code",
        "outputId": "3f82bbb7-3e4e-41d4-d1cb-be9bd89b557f",
        "colab": {
          "base_uri": "https://localhost:8080/",
          "height": 290
        }
      },
      "source": [
        "fig, ax = plt.subplots()\n",
        "ax.plot(questions_explained)\n",
        "xlabel = list(500+np.array(range(-50,450,50))*50)\n",
        "ax.set_xticklabels(xlabel)\n",
        "plt.xlabel('Number of tags')\n",
        "plt.ylabel('Number of Questions covered partially')\n",
        "plt.grid()\n",
        "plt.show()\n"
      ],
      "execution_count": 0,
      "outputs": [
        {
          "output_type": "display_data",
          "data": {
            "image/png": "[encoded data removed]",
            "text/plain": [
              "<Figure size 432x288 with 1 Axes>"
            ]
          },
          "metadata": {
            "tags": []
          }
        }
      ]
    },
    {
      "cell_type": "code",
      "metadata": {
        "id": "gKFXSaYjYiN5",
        "colab_type": "code",
        "colab": {}
      },
      "source": [
        "vectorizer = CountVectorizer(tokenizer=lambda x:x.split(), binary='true', max_features=5500)\n",
        "multilabel_y = vectorizer.fit_transform(df['Tags'].apply(np.str_))"
      ],
      "execution_count": 0,
      "outputs": []
    },
    {
      "cell_type": "code",
      "metadata": {
        "id": "NcJdjB5OFoNl",
        "colab_type": "code",
        "outputId": "27358765-2a86-4cfa-b4d2-92e4d146098c",
        "colab": {
          "base_uri": "https://localhost:8080/",
          "height": 50
        }
      },
      "source": [
        "print('The number of data points is:', multilabel_y.shape[0])\n",
        "print('The number of unique tags is:', multilabel_y.shape[1])"
      ],
      "execution_count": 0,
      "outputs": [
        {
          "output_type": "stream",
          "text": [
            "The number of data points is: 1000000\n",
            "The number of unique tags is: 5500\n"
          ],
          "name": "stdout"
        }
      ]
    },
    {
      "cell_type": "code",
      "metadata": {
        "id": "atLPu2OG42v_",
        "colab_type": "code",
        "colab": {}
      },
      "source": [
        "def striphtml(data):\n",
        "  cleanr = re.compile('<.*?>')\n",
        "  cleantext = re.sub(cleanr, \" \", str(data))\n",
        "  return cleantext"
      ],
      "execution_count": 0,
      "outputs": []
    },
    {
      "cell_type": "code",
      "metadata": {
        "id": "wy2PdEAW5hbC",
        "colab_type": "code",
        "colab": {}
      },
      "source": [
        "module_url = \"https://tfhub.dev/google/nnlm-en-dim128/2\"\n",
        "embed = hub.KerasLayer(module_url)"
      ],
      "execution_count": 0,
      "outputs": []
    },
    {
      "cell_type": "code",
      "metadata": {
        "id": "kpWoNBFi5glB",
        "colab_type": "code",
        "outputId": "d64c3429-ce11-47f6-a8ec-9008e9ee6354",
        "colab": {
          "base_uri": "https://localhost:8080/",
          "height": 33
        }
      },
      "source": [
        "def adapt_array(arr):\n",
        "  out = io.BytesIO()\n",
        "  np.save(out, arr)\n",
        "  out.seek(0)\n",
        "  return sqlite3.Binary(out.read())\n",
        "\n",
        "def convert_array(text):\n",
        "  out = io.BytesIO(text)\n",
        "  out.seek(0)\n",
        "  return np.load(out)\n",
        "\n",
        "\n",
        "# Converts np.array to TEXT when inserting\n",
        "sqlite3.register_adapter(np.ndarray, adapt_array)\n",
        "\n",
        "# Converts TEXT to np.array when selecting\n",
        "sqlite3.register_converter(\"array\", convert_array)\n",
        "\n",
        "\n",
        "conn = sqlite3.connect(\"Question.sqlite\",  detect_types=sqlite3.PARSE_DECLTYPES)\n",
        "conn.execute(\"\"\"CREATE TABLE IF NOT EXISTS data(Id INTEGER, title_vec array, question_vec array, code_vec array, len_title INTEGER, len_question INTEGER,  tags TEXT);\"\"\")"
      ],
      "execution_count": 0,
      "outputs": [
        {
          "output_type": "execute_result",
          "data": {
            "text/plain": [
              "<sqlite3.Cursor at 0x7f3ca2a1e0a0>"
            ]
          },
          "metadata": {
            "tags": []
          },
          "execution_count": 18
        }
      ]
    },
    {
      "cell_type": "code",
      "metadata": {
        "id": "IwFFEBGAN4Wf",
        "colab_type": "code",
        "outputId": "92aca718-770c-4399-c065-62d045c1521f",
        "colab": {
          "base_uri": "https://localhost:8080/",
          "height": 358
        }
      },
      "source": [
        "conn = sqlite3.connect(\"Question.sqlite\")\n",
        "start = datetime.now()\n",
        "preprocessed_data_list = []\n",
        "questions_with_code = 0\n",
        "questions_processed = 0\n",
        "\n",
        "\n",
        "for row in df.iterrows():\n",
        "    Id, title, question, tags =  row[1]['Id'], row[1]['Title'], row[1]['Body'], row[1]['Tags']\n",
        "\n",
        "    if '<code>' in question:\n",
        "      questions_with_code += 1\n",
        "      \n",
        "\n",
        "      code = str(re.findall(r'<code>(.*?)</code>', question, flags=re.DOTALL))\n",
        "      code = np.array(embed([code]))\n",
        "    else: \n",
        "      code = np.zeros((1,128))\n",
        "\n",
        "    question = re.sub('<code>(.*?)</code>', '', question, flags=re.MULTILINE|re.DOTALL)\n",
        "    question = striphtml(question.encode('utf-8'))\n",
        "    question = np.array(embed([question]))\n",
        "\n",
        "    title = title.encode('utf-8')\n",
        "    title = np.array(embed([title]))\n",
        "\n",
        "\n",
        "    tup  = (Id, title, question, code, len(title), len(question),  tags)\n",
        "    conn.execute(\"\"\"INSERT INTO data VALUES(?, ?, ?, ?, ?, ?, ?)\"\"\", tup)\n",
        "    questions_processed += 1\n",
        "\n",
        "    if (questions_processed%50000==0):\n",
        "      print('number of questions completed=', questions_processed)\n",
        "    \n",
        "conn.commit()\n",
        "\n",
        "print('Time taken to run this cell:', datetime.now()-start)"
      ],
      "execution_count": 0,
      "outputs": [
        {
          "output_type": "stream",
          "text": [
            "number of questions completed= 50000\n",
            "number of questions completed= 100000\n",
            "number of questions completed= 150000\n",
            "number of questions completed= 200000\n",
            "number of questions completed= 250000\n",
            "number of questions completed= 300000\n",
            "number of questions completed= 350000\n",
            "number of questions completed= 400000\n",
            "number of questions completed= 450000\n",
            "number of questions completed= 500000\n",
            "number of questions completed= 550000\n",
            "number of questions completed= 600000\n",
            "number of questions completed= 650000\n",
            "number of questions completed= 700000\n",
            "number of questions completed= 750000\n",
            "number of questions completed= 800000\n",
            "number of questions completed= 850000\n",
            "number of questions completed= 900000\n",
            "number of questions completed= 950000\n",
            "number of questions completed= 1000000\n",
            "Time taken to run this cell: 0:44:47.362880\n"
          ],
          "name": "stdout"
        }
      ]
    },
    {
      "cell_type": "code",
      "metadata": {
        "id": "MatVqJ_xsHH8",
        "colab_type": "code",
        "colab": {}
      },
      "source": [
        "shutil.move('/content/Question.sqlite', '/content/drive/My Drive')"
      ],
      "execution_count": 0,
      "outputs": []
    },
    {
      "cell_type": "code",
      "metadata": {
        "id": "djYaOFmWRGOZ",
        "colab_type": "code",
        "colab": {}
      },
      "source": [
        "import dill\n",
        "dill.dump(vectorizer, open('tag_vectorizer.p', 'wb'))"
      ],
      "execution_count": 0,
      "outputs": []
    },
    {
      "cell_type": "code",
      "metadata": {
        "id": "0XlijJa9PMc3",
        "colab_type": "code",
        "colab": {}
      },
      "source": [
        ""
      ],
      "execution_count": 0,
      "outputs": []
    }
  ]
}